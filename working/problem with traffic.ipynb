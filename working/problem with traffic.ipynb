{
 "cells": [
  {
   "cell_type": "code",
   "execution_count": 10,
   "metadata": {
    "collapsed": true
   },
   "outputs": [],
   "source": [
    "import numpy\n",
    "import sympy\n",
    "from matplotlib import pyplot\n",
    "%matplotlib inline\n",
    "from matplotlib import rcParams\n",
    "rcParams['font.family'] = 'serif'\n",
    "rcParams['font.size'] = 16\n",
    "\n",
    "\n",
    "from sympy import init_printing\n",
    "init_printing()\n",
    "\n",
    "from sympy.utilities.lambdify import lambdify\n",
    "\n",
    "##parametres\n",
    "\n",
    "T = 180\n",
    "Vm = 1360/36\n",
    "L = 11000\n",
    "rhoM = 0.25\n",
    "nx = 51\n",
    "dt = 3.6\n",
    "dx = L/(nx-1)\n",
    "nt = round(T/dt)"
   ]
  },
  {
   "cell_type": "code",
   "execution_count": 11,
   "metadata": {
    "collapsed": true
   },
   "outputs": [],
   "source": [
    "##initial conditions\n",
    "##x = numpy.linspace(0,L,nx)\n",
    "##rho = numpy.ones(nx)*0.01\n",
    "##rho[10:20] = 0.05\n",
    "\n",
    "\n",
    "x = numpy.linspace(0,L,nx)\n",
    "rho = numpy.ones(nx)*0.02 ##note this change\n",
    "rho[10:20] = 0.05"
   ]
  },
  {
   "cell_type": "code",
   "execution_count": 12,
   "metadata": {
    "collapsed": false
   },
   "outputs": [],
   "source": [
    "for n in range(nt):  \n",
    "    un = rho.copy() \n",
    "    rho[1:] = un[1:]-(1-2*un[1:]/rhoM)*dt/dx*Vm*(un[1:]-un[0:-1]) \n",
    "    ##rho[0] = 0.01\n",
    "    rho[0] = 0.02\n",
    "   ## V[0:] = Vm(1-rho[0:]/rhoM)"
   ]
  },
  {
   "cell_type": "code",
   "execution_count": 13,
   "metadata": {
    "collapsed": false
   },
   "outputs": [
    {
     "data": {
      "image/png": "[encoded data removed]",
      "text/plain": [
       "<matplotlib.figure.Figure at 0x5042d30>"
      ]
     },
     "metadata": {},
     "output_type": "display_data"
    }
   ],
   "source": [
    "pyplot.plot(x, rho, color='#003366', ls='--', lw=3)\n",
    "pyplot.ylim(0,0.1);\n",
    "pyplot.xlim(0,11000);"
   ]
  },
  {
   "cell_type": "code",
   "execution_count": 14,
   "metadata": {
    "collapsed": false
   },
   "outputs": [
    {
     "data": {
      "image/png": "[encoded data removed]",
      "text/plain": [
       "<matplotlib.figure.Figure at 0x885a470>"
      ]
     },
     "metadata": {},
     "output_type": "display_data"
    }
   ],
   "source": [
    "V = numpy.ones(nx)*Vm*(1-rho/rhoM)\n",
    "pyplot.plot(x, V, color='#003366', ls='--', lw=3)\n",
    "pyplot.ylim(0,50);\n",
    "pyplot.xlim(0,11000);"
   ]
  },
  {
   "cell_type": "code",
   "execution_count": 15,
   "metadata": {
    "collapsed": false
   },
   "outputs": [
    {
     "name": "stdout",
     "output_type": "stream",
     "text": [
      "[ 34.75555556  34.75555556  34.75555556  34.75555556  34.75555556\n",
      "  34.75555556  34.75555556  34.75555556  34.75555556  34.75555556\n",
      "  34.75555556  34.75555556  34.75555556  34.75555556  34.75555556\n",
      "  34.75555555  34.75555552  34.75555529  34.75555393  34.75554674\n",
      "  34.7555133   34.75537431  34.75485358  34.75308115  34.74756277\n",
      "  34.73176331  34.6900737   34.5891283   34.36861203  33.94950518\n",
      "  33.2929716   32.4881409   31.73328456  31.18789247  30.88917608\n",
      "  30.79441921  30.84447798  30.99238206  31.20668366  31.46694885\n",
      "  31.7591409   32.07257794  32.39820303  32.72764694  33.05273279\n",
      "  33.36526401  33.65707108  33.92036082  34.14840421  34.33649637\n",
      "  34.48293352]\n"
     ]
    }
   ],
   "source": [
    "print(V)"
   ]
  },
  {
   "cell_type": "code",
   "execution_count": 16,
   "metadata": {
    "collapsed": true
   },
   "outputs": [],
   "source": [
    "def summas(a):\n",
    "    s = 0\n",
    "    for x in a:\n",
    "        s += x\n",
    "    return s\n",
    "\n",
    "# функция вычисления среднего арафиметического\n",
    "def average(a):\n",
    "    # используем определенную выше\n",
    "    # функцию суммирования элементов массива\n",
    "    return summas(a)/len(a)\n"
   ]
  },
  {
   "cell_type": "code",
   "execution_count": 17,
   "metadata": {
    "collapsed": false
   },
   "outputs": [
    {
     "name": "stdout",
     "output_type": "stream",
     "text": [
      "33.7651720983\n"
     ]
    }
   ],
   "source": [
    "print(average(V))"
   ]
  },
  {
   "cell_type": "code",
   "execution_count": 18,
   "metadata": {
    "collapsed": false
   },
   "outputs": [
    {
     "name": "stdout",
     "output_type": "stream",
     "text": [
      "30.7944192091\n"
     ]
    }
   ],
   "source": [
    "print(min(V))"
   ]
  },
  {
   "cell_type": "code",
   "execution_count": null,
   "metadata": {
    "collapsed": true
   },
   "outputs": [],
   "source": []
  }
 ],
 "metadata": {
  "kernelspec": {
   "display_name": "Python 3",
   "language": "python",
   "name": "python3"
  },
  "language_info": {
   "codemirror_mode": {
    "name": "ipython",
    "version": 3
   },
   "file_extension": ".py",
   "mimetype": "text/x-python",
   "name": "python",
   "nbconvert_exporter": "python",
   "pygments_lexer": "ipython3",
   "version": "3.4.3"
  }
 },
 "nbformat": 4,
 "nbformat_minor": 0
}
