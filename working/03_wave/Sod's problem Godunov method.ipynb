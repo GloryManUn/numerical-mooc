{
 "cells": [
  {
   "cell_type": "code",
   "execution_count": 1,
   "metadata": {
    "collapsed": true
   },
   "outputs": [],
   "source": [
    "%matplotlib inline\n",
    "import numpy \n",
    "from matplotlib import pyplot\n",
    "from matplotlib import rcParams\n",
    "rcParams['font.family'] = 'serif'\n",
    "rcParams['font.size'] = 16\n",
    "from matplotlib import animation\n",
    "from JSAnimation.IPython_display import display_animation"
   ]
  },
  {
   "cell_type": "code",
   "execution_count": 52,
   "metadata": {
    "collapsed": true
   },
   "outputs": [],
   "source": [
    "#Basic initial condition parameters\n",
    "#defining grid size, time steps, CFL condition, etc...\n",
    "nx = 81\n",
    "T = 0.01\n",
    "dt = .0002\n",
    "nt = T/dt\n",
    "dx = .25\n",
    "gamma = 1.4\n",
    "\n",
    "\n",
    "x = numpy.linspace(-10,10,nx-1)"
   ]
  },
  {
   "cell_type": "code",
   "execution_count": 18,
   "metadata": {
    "collapsed": true
   },
   "outputs": [],
   "source": [
    "def animate(data):\n",
    "    x = numpy.linspace(-10,10,nx-1)\n",
    "    y = data\n",
    "    line.set_data(x,y)\n",
    "    return line,"
   ]
  },
  {
   "cell_type": "code",
   "execution_count": 53,
   "metadata": {
    "collapsed": true
   },
   "outputs": [],
   "source": [
    "def u_initial(nx):\n",
    "    \n",
    "    Rho = numpy.ones(nx)\n",
    "    Rho[int((nx-1)/2.):] = 0.125\n",
    "    v = numpy.zeros(nx)\n",
    "    p = 100000*numpy.ones(nx)\n",
    "    p[int((nx-1)/2.):] = 10000\n",
    "    return numpy.array([Rho, v, p])\n",
    "    "
   ]
  },
  {
   "cell_type": "code",
   "execution_count": 54,
   "metadata": {
    "collapsed": false
   },
   "outputs": [
    {
     "name": "stdout",
     "output_type": "stream",
     "text": [
      "[[  1.00000000e+00   1.00000000e+00   1.00000000e+00   1.00000000e+00\n",
      "    1.00000000e+00   1.00000000e+00   1.00000000e+00   1.00000000e+00\n",
      "    1.00000000e+00   1.00000000e+00   1.00000000e+00   1.00000000e+00\n",
      "    1.00000000e+00   1.00000000e+00   1.00000000e+00   1.00000000e+00\n",
      "    1.00000000e+00   1.00000000e+00   1.00000000e+00   1.00000000e+00\n",
      "    1.00000000e+00   1.00000000e+00   1.00000000e+00   1.00000000e+00\n",
      "    1.00000000e+00   1.00000000e+00   1.00000000e+00   1.00000000e+00\n",
      "    1.00000000e+00   1.00000000e+00   1.00000000e+00   1.00000000e+00\n",
      "    1.00000000e+00   1.00000000e+00   1.00000000e+00   1.00000000e+00\n",
      "    1.00000000e+00   1.00000000e+00   1.00000000e+00   1.00000000e+00\n",
      "    1.25000000e-01   1.25000000e-01   1.25000000e-01   1.25000000e-01\n",
      "    1.25000000e-01   1.25000000e-01   1.25000000e-01   1.25000000e-01\n",
      "    1.25000000e-01   1.25000000e-01   1.25000000e-01   1.25000000e-01\n",
      "    1.25000000e-01   1.25000000e-01   1.25000000e-01   1.25000000e-01\n",
      "    1.25000000e-01   1.25000000e-01   1.25000000e-01   1.25000000e-01\n",
      "    1.25000000e-01   1.25000000e-01   1.25000000e-01   1.25000000e-01\n",
      "    1.25000000e-01   1.25000000e-01   1.25000000e-01   1.25000000e-01\n",
      "    1.25000000e-01   1.25000000e-01   1.25000000e-01   1.25000000e-01\n",
      "    1.25000000e-01   1.25000000e-01   1.25000000e-01   1.25000000e-01\n",
      "    1.25000000e-01   1.25000000e-01   1.25000000e-01   1.25000000e-01\n",
      "    1.25000000e-01]\n",
      " [  0.00000000e+00   0.00000000e+00   0.00000000e+00   0.00000000e+00\n",
      "    0.00000000e+00   0.00000000e+00   0.00000000e+00   0.00000000e+00\n",
      "    0.00000000e+00   0.00000000e+00   0.00000000e+00   0.00000000e+00\n",
      "    0.00000000e+00   0.00000000e+00   0.00000000e+00   0.00000000e+00\n",
      "    0.00000000e+00   0.00000000e+00   0.00000000e+00   0.00000000e+00\n",
      "    0.00000000e+00   0.00000000e+00   0.00000000e+00   0.00000000e+00\n",
      "    0.00000000e+00   0.00000000e+00   0.00000000e+00   0.00000000e+00\n",
      "    0.00000000e+00   0.00000000e+00   0.00000000e+00   0.00000000e+00\n",
      "    0.00000000e+00   0.00000000e+00   0.00000000e+00   0.00000000e+00\n",
      "    0.00000000e+00   0.00000000e+00   0.00000000e+00   0.00000000e+00\n",
      "    0.00000000e+00   0.00000000e+00   0.00000000e+00   0.00000000e+00\n",
      "    0.00000000e+00   0.00000000e+00   0.00000000e+00   0.00000000e+00\n",
      "    0.00000000e+00   0.00000000e+00   0.00000000e+00   0.00000000e+00\n",
      "    0.00000000e+00   0.00000000e+00   0.00000000e+00   0.00000000e+00\n",
      "    0.00000000e+00   0.00000000e+00   0.00000000e+00   0.00000000e+00\n",
      "    0.00000000e+00   0.00000000e+00   0.00000000e+00   0.00000000e+00\n",
      "    0.00000000e+00   0.00000000e+00   0.00000000e+00   0.00000000e+00\n",
      "    0.00000000e+00   0.00000000e+00   0.00000000e+00   0.00000000e+00\n",
      "    0.00000000e+00   0.00000000e+00   0.00000000e+00   0.00000000e+00\n",
      "    0.00000000e+00   0.00000000e+00   0.00000000e+00   0.00000000e+00\n",
      "    0.00000000e+00]\n",
      " [  1.00000000e+05   1.00000000e+05   1.00000000e+05   1.00000000e+05\n",
      "    1.00000000e+05   1.00000000e+05   1.00000000e+05   1.00000000e+05\n",
      "    1.00000000e+05   1.00000000e+05   1.00000000e+05   1.00000000e+05\n",
      "    1.00000000e+05   1.00000000e+05   1.00000000e+05   1.00000000e+05\n",
      "    1.00000000e+05   1.00000000e+05   1.00000000e+05   1.00000000e+05\n",
      "    1.00000000e+05   1.00000000e+05   1.00000000e+05   1.00000000e+05\n",
      "    1.00000000e+05   1.00000000e+05   1.00000000e+05   1.00000000e+05\n",
      "    1.00000000e+05   1.00000000e+05   1.00000000e+05   1.00000000e+05\n",
      "    1.00000000e+05   1.00000000e+05   1.00000000e+05   1.00000000e+05\n",
      "    1.00000000e+05   1.00000000e+05   1.00000000e+05   1.00000000e+05\n",
      "    1.00000000e+04   1.00000000e+04   1.00000000e+04   1.00000000e+04\n",
      "    1.00000000e+04   1.00000000e+04   1.00000000e+04   1.00000000e+04\n",
      "    1.00000000e+04   1.00000000e+04   1.00000000e+04   1.00000000e+04\n",
      "    1.00000000e+04   1.00000000e+04   1.00000000e+04   1.00000000e+04\n",
      "    1.00000000e+04   1.00000000e+04   1.00000000e+04   1.00000000e+04\n",
      "    1.00000000e+04   1.00000000e+04   1.00000000e+04   1.00000000e+04\n",
      "    1.00000000e+04   1.00000000e+04   1.00000000e+04   1.00000000e+04\n",
      "    1.00000000e+04   1.00000000e+04   1.00000000e+04   1.00000000e+04\n",
      "    1.00000000e+04   1.00000000e+04   1.00000000e+04   1.00000000e+04\n",
      "    1.00000000e+04   1.00000000e+04   1.00000000e+04   1.00000000e+04\n",
      "    1.00000000e+04]]\n"
     ]
    }
   ],
   "source": [
    "z = u_initial(nx)        #initial conditions\n",
    "print(z)\n"
   ]
  },
  {
   "cell_type": "code",
   "execution_count": 37,
   "metadata": {
    "collapsed": true
   },
   "outputs": [],
   "source": [
    "def f(u, gamma):\n",
    "    \n",
    "    \"\"\"Rho = u[0]\n",
    "    v = u[1]\n",
    "    p = u[2]\n",
    "    e = p/((gamma-1)*Rho)\n",
    "    eT = e+0.5*v*v\n",
    "    \"\"\"\n",
    "    u1 = u[0]\n",
    "    u2 = u[1]\n",
    "    u3 = u[2]\n",
    "    \n",
    "    \n",
    "    return numpy.array([u2, u2*u2/u1+(gamma-1)*(u3-0.5*u2*u2/u1),\n",
    "                      (u3+(gamma-1)*(u3-0.5*u2*u2/u1))*u2/u1])"
   ]
  },
  {
   "cell_type": "code",
   "execution_count": 55,
   "metadata": {
    "collapsed": false
   },
   "outputs": [
    {
     "name": "stdout",
     "output_type": "stream",
     "text": [
      "(3, 81) (3, 80)\n"
     ]
    }
   ],
   "source": [
    "u = f1(z, gamma) #flux variables \n",
    "\n",
    "\n",
    "u_star = numpy.zeros((len(u),len(u[0])-1))\n",
    "u_n = numpy.zeros_like(u)      \n",
    "    #copy the initial u array into each row of our new array\n",
    "print(u.shape,u_star.shape)"
   ]
  },
  {
   "cell_type": "code",
   "execution_count": 38,
   "metadata": {
    "collapsed": false
   },
   "outputs": [],
   "source": [
    "def f1(u, gamma):\n",
    "    Rho = u[0]\n",
    "    v = u[1]\n",
    "    p = u[2]\n",
    "    e = p/((gamma-1)*Rho)\n",
    "    eT = e+0.5*v*v\n",
    "    return numpy.array([Rho, Rho*v, Rho*eT])"
   ]
  },
  {
   "cell_type": "code",
   "execution_count": 56,
   "metadata": {
    "collapsed": false
   },
   "outputs": [
    {
     "name": "stdout",
     "output_type": "stream",
     "text": [
      "[[  1.00000000e+00   1.00000000e+00   1.00000000e+00   1.00000000e+00\n",
      "    1.00000000e+00   1.00000000e+00   1.00000000e+00   1.00000000e+00\n",
      "    1.00000000e+00   1.00000000e+00   1.00000000e+00   1.00000000e+00\n",
      "    1.00000000e+00   1.00000000e+00   1.00000000e+00   1.00000000e+00\n",
      "    1.00000000e+00   1.00000000e+00   1.00000000e+00   1.00000000e+00\n",
      "    1.00000000e+00   1.00000000e+00   1.00000000e+00   1.00000000e+00\n",
      "    1.00000000e+00   1.00000000e+00   1.00000000e+00   1.00000000e+00\n",
      "    1.00000000e+00   1.00000000e+00   1.00000000e+00   1.00000000e+00\n",
      "    1.00000000e+00   1.00000000e+00   1.00000000e+00   1.00000000e+00\n",
      "    1.00000000e+00   1.00000000e+00   1.00000000e+00   1.00000000e+00\n",
      "    1.25000000e-01   1.25000000e-01   1.25000000e-01   1.25000000e-01\n",
      "    1.25000000e-01   1.25000000e-01   1.25000000e-01   1.25000000e-01\n",
      "    1.25000000e-01   1.25000000e-01   1.25000000e-01   1.25000000e-01\n",
      "    1.25000000e-01   1.25000000e-01   1.25000000e-01   1.25000000e-01\n",
      "    1.25000000e-01   1.25000000e-01   1.25000000e-01   1.25000000e-01\n",
      "    1.25000000e-01   1.25000000e-01   1.25000000e-01   1.25000000e-01\n",
      "    1.25000000e-01   1.25000000e-01   1.25000000e-01   1.25000000e-01\n",
      "    1.25000000e-01   1.25000000e-01   1.25000000e-01   1.25000000e-01\n",
      "    1.25000000e-01   1.25000000e-01   1.25000000e-01   1.25000000e-01\n",
      "    1.25000000e-01   1.25000000e-01   1.25000000e-01   1.25000000e-01\n",
      "    1.25000000e-01]\n",
      " [  0.00000000e+00   0.00000000e+00   0.00000000e+00   0.00000000e+00\n",
      "    0.00000000e+00   0.00000000e+00   0.00000000e+00   0.00000000e+00\n",
      "    0.00000000e+00   0.00000000e+00   0.00000000e+00   0.00000000e+00\n",
      "    0.00000000e+00   0.00000000e+00   0.00000000e+00   0.00000000e+00\n",
      "    0.00000000e+00   0.00000000e+00   0.00000000e+00   0.00000000e+00\n",
      "    0.00000000e+00   0.00000000e+00   0.00000000e+00   0.00000000e+00\n",
      "    0.00000000e+00   0.00000000e+00   0.00000000e+00   0.00000000e+00\n",
      "    0.00000000e+00   0.00000000e+00   0.00000000e+00   0.00000000e+00\n",
      "    0.00000000e+00   0.00000000e+00   0.00000000e+00   0.00000000e+00\n",
      "    0.00000000e+00   0.00000000e+00   0.00000000e+00   0.00000000e+00\n",
      "    0.00000000e+00   0.00000000e+00   0.00000000e+00   0.00000000e+00\n",
      "    0.00000000e+00   0.00000000e+00   0.00000000e+00   0.00000000e+00\n",
      "    0.00000000e+00   0.00000000e+00   0.00000000e+00   0.00000000e+00\n",
      "    0.00000000e+00   0.00000000e+00   0.00000000e+00   0.00000000e+00\n",
      "    0.00000000e+00   0.00000000e+00   0.00000000e+00   0.00000000e+00\n",
      "    0.00000000e+00   0.00000000e+00   0.00000000e+00   0.00000000e+00\n",
      "    0.00000000e+00   0.00000000e+00   0.00000000e+00   0.00000000e+00\n",
      "    0.00000000e+00   0.00000000e+00   0.00000000e+00   0.00000000e+00\n",
      "    0.00000000e+00   0.00000000e+00   0.00000000e+00   0.00000000e+00\n",
      "    0.00000000e+00   0.00000000e+00   0.00000000e+00   0.00000000e+00\n",
      "    0.00000000e+00]\n",
      " [  2.50000000e+05   2.50000000e+05   2.50000000e+05   2.50000000e+05\n",
      "    2.50000000e+05   2.50000000e+05   2.50000000e+05   2.50000000e+05\n",
      "    2.50000000e+05   2.50000000e+05   2.50000000e+05   2.50000000e+05\n",
      "    2.50000000e+05   2.50000000e+05   2.50000000e+05   2.50000000e+05\n",
      "    2.50000000e+05   2.50000000e+05   2.50000000e+05   2.50000000e+05\n",
      "    2.50000000e+05   2.50000000e+05   2.50000000e+05   2.50000000e+05\n",
      "    2.50000000e+05   2.50000000e+05   2.50000000e+05   2.50000000e+05\n",
      "    2.50000000e+05   2.50000000e+05   2.50000000e+05   2.50000000e+05\n",
      "    2.50000000e+05   2.50000000e+05   2.50000000e+05   2.50000000e+05\n",
      "    2.50000000e+05   2.50000000e+05   2.50000000e+05   2.50000000e+05\n",
      "    2.50000000e+04   2.50000000e+04   2.50000000e+04   2.50000000e+04\n",
      "    2.50000000e+04   2.50000000e+04   2.50000000e+04   2.50000000e+04\n",
      "    2.50000000e+04   2.50000000e+04   2.50000000e+04   2.50000000e+04\n",
      "    2.50000000e+04   2.50000000e+04   2.50000000e+04   2.50000000e+04\n",
      "    2.50000000e+04   2.50000000e+04   2.50000000e+04   2.50000000e+04\n",
      "    2.50000000e+04   2.50000000e+04   2.50000000e+04   2.50000000e+04\n",
      "    2.50000000e+04   2.50000000e+04   2.50000000e+04   2.50000000e+04\n",
      "    2.50000000e+04   2.50000000e+04   2.50000000e+04   2.50000000e+04\n",
      "    2.50000000e+04   2.50000000e+04   2.50000000e+04   2.50000000e+04\n",
      "    2.50000000e+04   2.50000000e+04   2.50000000e+04   2.50000000e+04\n",
      "    2.50000000e+04]]\n"
     ]
    }
   ],
   "source": [
    "\n",
    "print(u)"
   ]
  },
  {
   "cell_type": "code",
   "execution_count": 10,
   "metadata": {
    "collapsed": false
   },
   "outputs": [
    {
     "name": "stdout",
     "output_type": "stream",
     "text": [
      "next step\n",
      "0\n",
      "(3, 80)\n",
      "(3, 81)\n",
      "next step\n",
      "1\n",
      "(3, 80)\n",
      "(3, 81)\n",
      "next step\n",
      "2\n",
      "(3, 80)\n",
      "(3, 81)\n",
      "next step\n",
      "3\n",
      "(3, 80)\n",
      "(3, 81)\n",
      "next step\n",
      "4\n",
      "(3, 80)\n",
      "(3, 81)\n",
      "next step\n",
      "5\n",
      "(3, 80)\n",
      "(3, 81)\n",
      "next step\n",
      "6\n",
      "(3, 80)\n",
      "(3, 81)\n",
      "next step\n",
      "7\n",
      "(3, 80)\n",
      "(3, 81)\n",
      "next step\n",
      "8\n",
      "(3, 80)\n",
      "(3, 81)\n",
      "next step\n",
      "9\n",
      "(3, 80)\n",
      "(3, 81)\n",
      "next step\n",
      "10\n",
      "(3, 80)\n",
      "(3, 81)\n",
      "next step\n",
      "11\n",
      "(3, 80)\n",
      "(3, 81)\n",
      "next step\n",
      "12\n",
      "(3, 80)\n",
      "(3, 81)\n",
      "next step\n",
      "13\n",
      "(3, 80)\n",
      "(3, 81)\n",
      "next step\n",
      "14\n",
      "(3, 80)\n",
      "(3, 81)\n",
      "next step\n",
      "15\n",
      "(3, 80)\n",
      "(3, 81)\n",
      "next step\n",
      "16\n",
      "(3, 80)\n",
      "(3, 81)\n",
      "next step\n",
      "17\n",
      "(3, 80)\n",
      "(3, 81)\n",
      "next step\n",
      "18\n",
      "(3, 80)\n",
      "(3, 81)\n",
      "next step\n",
      "19\n",
      "(3, 80)\n",
      "(3, 81)\n",
      "next step\n",
      "20\n",
      "(3, 80)\n",
      "(3, 81)\n",
      "next step\n",
      "21\n",
      "(3, 80)\n",
      "(3, 81)\n",
      "next step\n",
      "22\n",
      "(3, 80)\n",
      "(3, 81)\n",
      "next step\n",
      "23\n",
      "(3, 80)\n",
      "(3, 81)\n",
      "next step\n",
      "24\n",
      "(3, 80)\n",
      "(3, 81)\n",
      "next step\n",
      "25\n",
      "(3, 80)\n",
      "(3, 81)\n",
      "next step\n",
      "26\n",
      "(3, 80)\n",
      "(3, 81)\n",
      "next step\n",
      "27\n",
      "(3, 80)\n",
      "(3, 81)\n",
      "next step\n",
      "28\n",
      "(3, 80)\n",
      "(3, 81)\n",
      "next step\n",
      "29\n",
      "(3, 80)\n",
      "(3, 81)\n",
      "next step\n",
      "30\n",
      "(3, 80)\n",
      "(3, 81)\n",
      "next step\n",
      "31\n",
      "(3, 80)\n",
      "(3, 81)\n",
      "next step\n",
      "32\n",
      "(3, 80)\n",
      "(3, 81)\n",
      "next step\n",
      "33\n",
      "(3, 80)\n",
      "(3, 81)\n",
      "next step\n",
      "34\n",
      "(3, 80)\n",
      "(3, 81)\n",
      "next step\n",
      "35\n",
      "(3, 80)\n",
      "(3, 81)\n",
      "next step\n",
      "36\n",
      "(3, 80)\n",
      "(3, 81)\n",
      "next step\n",
      "37\n",
      "(3, 80)\n",
      "(3, 81)\n",
      "next step\n",
      "38\n",
      "(3, 80)\n",
      "(3, 81)\n",
      "next step\n",
      "39\n",
      "(3, 80)\n",
      "(3, 81)\n",
      "next step\n",
      "40\n",
      "(3, 80)\n",
      "(3, 81)\n",
      "next step\n",
      "41\n",
      "(3, 80)\n",
      "(3, 81)\n",
      "next step\n",
      "42\n",
      "(3, 80)\n",
      "(3, 81)\n",
      "next step\n",
      "43\n",
      "(3, 80)\n",
      "(3, 81)\n",
      "next step\n",
      "44\n",
      "(3, 80)\n",
      "(3, 81)\n",
      "next step\n",
      "45\n",
      "(3, 80)\n",
      "(3, 81)\n",
      "next step\n",
      "46\n",
      "(3, 80)\n",
      "(3, 81)\n",
      "next step\n",
      "47\n",
      "(3, 80)\n",
      "(3, 81)\n",
      "next step\n",
      "48\n",
      "(3, 80)\n",
      "(3, 81)\n",
      "next step\n",
      "49\n",
      "(3, 80)\n",
      "(3, 81)\n"
     ]
    }
   ],
   "source": [
    "  for n in range(0,int(nt)):\n",
    "    print('next step')\n",
    "    #print(u)\n",
    "    u_n = u.copy() \n",
    "    print(n)\n",
    "    #print(u_n)\n",
    "    \n",
    "    F = f(u, gamma)\n",
    "    #print(\"u is \", type(u))\n",
    "    #print(F)\n",
    "    u_star[:,:] = 0.5*((u[:,1:]+u[:,:-1])-dt/dx*(F[:,1:]-F[:,:-1]))\n",
    "    print(u_star.shape)\n",
    "        \n",
    "    #print(\"u_star is \", type(u_star))\n",
    "    #print(u_star)\n",
    "    F_star = f(u_star, gamma)\n",
    "    #print('F_star = ', F_star)\n",
    "    u_n[:,1:-1] = u[:,1:-1]-dt/dx*(F_star[:,1:]-F_star[:,:-1])\n",
    "    u_n[:,0] = u[:,0]\n",
    "    u_n[:,-1] = u[:,-1]\n",
    "    #print('u_n = ', u_n)\n",
    "    u = u_n.copy()\n",
    "    print(u.shape)\n",
    "    #print(\"u is \", type(u))"
   ]
  },
  {
   "cell_type": "code",
   "execution_count": 57,
   "metadata": {
    "collapsed": true
   },
   "outputs": [],
   "source": [
    "u_plus = numpy.zeros_like(u)\n",
    "u_minus = numpy.zeros_like(u)\n",
    "flux = numpy.zeros_like(u)"
   ]
  },
  {
   "cell_type": "code",
   "execution_count": 58,
   "metadata": {
    "collapsed": false
   },
   "outputs": [
    {
     "name": "stdout",
     "output_type": "stream",
     "text": [
      "next step\n",
      "0\n",
      "next step\n",
      "1\n",
      "next step\n",
      "2\n",
      "next step\n",
      "3\n",
      "next step\n",
      "4\n",
      "next step\n",
      "5\n",
      "next step\n",
      "6\n",
      "next step\n",
      "7\n",
      "next step\n",
      "8\n",
      "next step\n",
      "9\n",
      "next step\n",
      "10\n",
      "next step\n",
      "11\n",
      "next step\n",
      "12\n",
      "next step\n",
      "13\n",
      "next step\n",
      "14\n",
      "next step\n",
      "15\n",
      "next step\n",
      "16\n",
      "next step\n",
      "17\n",
      "next step\n",
      "18\n",
      "next step\n",
      "19\n",
      "next step\n",
      "20\n",
      "next step\n",
      "21\n",
      "next step\n",
      "22\n",
      "next step\n",
      "23\n",
      "next step\n",
      "24\n",
      "next step\n",
      "25\n",
      "next step\n",
      "26\n",
      "next step\n",
      "27\n",
      "next step\n",
      "28\n",
      "next step\n",
      "29\n",
      "next step\n",
      "30\n",
      "next step\n",
      "31\n",
      "next step\n",
      "32\n",
      "next step\n",
      "33\n",
      "next step\n",
      "34\n",
      "next step\n",
      "35\n",
      "next step\n",
      "36\n",
      "next step\n",
      "37\n",
      "next step\n",
      "38\n",
      "next step\n",
      "39\n",
      "next step\n",
      "40\n",
      "next step\n",
      "41\n",
      "next step\n",
      "42\n",
      "next step\n",
      "43\n",
      "next step\n",
      "44\n",
      "next step\n",
      "45\n",
      "next step\n",
      "46\n",
      "next step\n",
      "47\n",
      "next step\n",
      "48\n",
      "next step\n",
      "49\n"
     ]
    },
    {
     "name": "stderr",
     "output_type": "stream",
     "text": [
      "D:\\helpprogramms\\Python\\lib\\site-packages\\ipykernel\\__main__.py:14: RuntimeWarning: invalid value encountered in true_divide\n",
      "D:\\helpprogramms\\Python\\lib\\site-packages\\ipykernel\\__main__.py:15: RuntimeWarning: invalid value encountered in true_divide\n"
     ]
    }
   ],
   "source": [
    "for n in range(0,int(nt)):\n",
    "    print('next step')\n",
    "    \n",
    "    u_n = u.copy() \n",
    "    print(n)\n",
    "    \n",
    "    \n",
    "   \n",
    "    \n",
    "    \n",
    "    \n",
    "    u_plus[:,:-1] = u[:,1:] # Can't do i+1/2 indices, so cell boundary\n",
    "    u_minus = u.copy() # arrays at index i are at location i+1/2\n",
    "    flux = 0.5 * (f(u_minus, gamma) + \n",
    "                      f(u_plus, gamma) + \n",
    "                      dx / dt * (u_minus - u_plus))\n",
    "    u_n[:,1:-1] = u[:,1:-1] + dt/dx*(flux[:,:-2]-flux[:,1:-1])\n",
    "    u_n[:,0] = u[:,0]\n",
    "    u_n[:,-1] = u[:,-1]\n",
    "    u = u_n.copy()\n",
    "        \n",
    "    "
   ]
  },
  {
   "cell_type": "code",
   "execution_count": 18,
   "metadata": {
    "collapsed": false
   },
   "outputs": [
    {
     "name": "stdout",
     "output_type": "stream",
     "text": [
      "0.343671670604\n"
     ]
    }
   ],
   "source": [
    "print(u[0,50])"
   ]
  },
  {
   "cell_type": "code",
   "execution_count": 59,
   "metadata": {
    "collapsed": false
   },
   "outputs": [],
   "source": [
    "def f3(u, gamma):\n",
    "    u1 = u[0]\n",
    "    u2 = u[1]\n",
    "    u3 = u[2]\n",
    "   \n",
    "    return numpy.array([u1, u2/u1, (u3/u1-0.5*u2*u2/u1/u1)*((gamma-1)*u1)])"
   ]
  },
  {
   "cell_type": "code",
   "execution_count": 60,
   "metadata": {
    "collapsed": false,
    "scrolled": true
   },
   "outputs": [
    {
     "name": "stdout",
     "output_type": "stream",
     "text": [
      "[[  1.00000000e+00   9.99986429e-01   9.99937003e-01   9.99936217e-01\n",
      "    9.99773850e-01   9.99773814e-01   9.99312123e-01   9.99312122e-01\n",
      "    9.98174423e-01   9.98174423e-01   9.95714056e-01   9.95714056e-01\n",
      "    9.90990931e-01   9.90990931e-01   9.82853667e-01   9.82853667e-01\n",
      "    9.70132214e-01   9.70132214e-01   9.51881537e-01   9.51881537e-01\n",
      "    9.27583112e-01   9.27583112e-01   8.97235109e-01   8.97235109e-01\n",
      "    8.61321527e-01   8.61321527e-01   8.20700145e-01   8.20700145e-01\n",
      "    7.76464058e-01   7.76464058e-01   7.29817670e-01   7.29817670e-01\n",
      "    6.81984695e-01   6.81984695e-01   6.34146829e-01   6.34146829e-01\n",
      "    5.87401504e-01   5.87401504e-01   5.42723764e-01   5.42723764e-01\n",
      "    5.00918707e-01   5.00918707e-01   4.62557353e-01   4.62557353e-01\n",
      "    4.27903545e-01   4.27903545e-01   3.96862814e-01   3.96862814e-01\n",
      "    3.69002464e-01   3.69002464e-01   3.43671671e-01   3.43671671e-01\n",
      "    3.20165995e-01   3.20165995e-01   2.97780555e-01   2.97780555e-01\n",
      "    2.75619178e-01   2.75619178e-01   2.52309362e-01   2.52309362e-01\n",
      "    2.26291187e-01   2.26291187e-01   1.97499130e-01   1.97499130e-01\n",
      "    1.69408124e-01   1.69408124e-01   1.47547460e-01   1.47547460e-01\n",
      "    1.34500279e-01   1.34500279e-01   1.28401703e-01   1.28401703e-01\n",
      "    1.26058539e-01   1.26058539e-01   1.25288440e-01   1.25288438e-01\n",
      "    1.25068315e-01   1.25068259e-01   1.25013701e-01   1.25012469e-01\n",
      "    1.25000000e-01]\n",
      " [  0.00000000e+00   5.07722602e-03   2.35674098e-02   2.38611643e-02\n",
      "    8.45878380e-02   8.46011617e-02   2.57209996e-01   2.57210441e-01\n",
      "    6.82313285e-01   6.82313295e-01   1.60106518e+00   1.60106518e+00\n",
      "    3.36421507e+00   3.36421507e+00   6.40374181e+00   6.40374181e+00\n",
      "    1.11671961e+01   1.11671961e+01   1.80369805e+01   1.80369805e+01\n",
      "    2.72657065e+01   2.72657065e+01   3.89477185e+01   3.89477185e+01\n",
      "    5.30266906e+01   5.30266906e+01   6.93249069e+01   6.93249069e+01\n",
      "    8.75770275e+01   8.75770275e+01   1.07456020e+02   1.07456020e+02\n",
      "    1.28585512e+02   1.28585512e+02   1.50537837e+02   1.50537837e+02\n",
      "    1.72820417e+02   1.72820417e+02   1.94856330e+02   1.94856330e+02\n",
      "    2.15969912e+02   2.15969912e+02   2.35395009e+02   2.35395009e+02\n",
      "    2.52327392e+02   2.52327392e+02   2.66031229e+02   2.66031229e+02\n",
      "    2.75968287e+02   2.75968287e+02   2.81856302e+02   2.81856302e+02\n",
      "    2.83528221e+02   2.83528221e+02   2.80508338e+02   2.80508338e+02\n",
      "    2.71347348e+02   2.71347348e+02   2.53001797e+02   2.53001797e+02\n",
      "    2.21136856e+02   2.21136856e+02   1.73154984e+02   1.73154984e+02\n",
      "    1.14534790e+02   1.14534790e+02   6.09870806e+01   6.09870806e+01\n",
      "    2.60549522e+01   2.60549522e+01   9.28226274e+00   9.28226274e+00\n",
      "    2.86446204e+00   2.86446193e+00   7.76099310e-01   7.76094308e-01\n",
      "    1.83279012e-01   1.83129709e-01   3.67110401e-02   3.34114089e-02\n",
      "    0.00000000e+00]\n",
      " [  1.00000000e+05   9.99981003e+04   9.99911821e+04   9.99910722e+04\n",
      "    9.99683534e+04   9.99683484e+04   9.99037923e+04   9.99037921e+04\n",
      "    9.97449316e+04   9.97449316e+04   9.94022396e+04   9.94022396e+04\n",
      "    9.87471158e+04   9.87471158e+04   9.76256630e+04   9.76256630e+04\n",
      "    9.58885394e+04   9.58885394e+04   9.34272360e+04   9.34272360e+04\n",
      "    9.02021026e+04   9.02021026e+04   8.62517050e+04   8.62517050e+04\n",
      "    8.16829074e+04   8.16829074e+04   7.66489950e+04   7.66489950e+04\n",
      "    7.13251852e+04   7.13251852e+04   6.58882514e+04   6.58882514e+04\n",
      "    6.05029991e+04   6.05029991e+04   5.53152966e+04   5.53152966e+04\n",
      "    5.04498311e+04   5.04498311e+04   4.60103152e+04   4.60103152e+04\n",
      "    4.20798861e+04   4.20798861e+04   3.87195864e+04   3.87195864e+04\n",
      "    3.59631783e+04   3.59631783e+04   3.38076336e+04   3.38076336e+04\n",
      "    3.22009137e+04   3.22009137e+04   3.10312219e+04   3.10312219e+04\n",
      "    3.01215650e+04   3.01215650e+04   2.92278485e+04   2.92278485e+04\n",
      "    2.80356214e+04   2.80356214e+04   2.61745451e+04   2.61745451e+04\n",
      "    2.33384615e+04   2.33384615e+04   1.96118569e+04   1.96118569e+04\n",
      "    1.57599881e+04   1.57599881e+04   1.28071912e+04   1.28071912e+04\n",
      "    1.11333949e+04   1.11333949e+04   1.03933968e+04   1.03933968e+04\n",
      "    1.01202730e+04   1.01202730e+04   1.00324961e+04   1.00324959e+04\n",
      "    1.00076686e+04   1.00076623e+04   1.00015358e+04   1.00013977e+04\n",
      "    1.00000000e+04]]\n"
     ]
    }
   ],
   "source": [
    "z2 = f3(u, gamma)\n",
    "print(z2)"
   ]
  },
  {
   "cell_type": "code",
   "execution_count": 21,
   "metadata": {
    "collapsed": false
   },
   "outputs": [
    {
     "name": "stdout",
     "output_type": "stream",
     "text": [
      "281.856302352\n",
      "31031.2219145\n",
      "0.343671670604\n"
     ]
    }
   ],
   "source": [
    "#count velocity, pressure and density\n",
    "print(z2[1,50])\n",
    "print(z2[2,50])\n",
    "print(z2[0,50])"
   ]
  },
  {
   "cell_type": "code",
   "execution_count": 65,
   "metadata": {
    "collapsed": false
   },
   "outputs": [
    {
     "name": "stdout",
     "output_type": "stream",
     "text": [
      "(80,) (80,)\n",
      "[ 1.          0.99998643  0.999937    0.99993622  0.99977385  0.99977381\n",
      "  0.99931212  0.99931212  0.99817442  0.99817442  0.99571406  0.99571406\n",
      "  0.99099093  0.99099093  0.98285367  0.98285367  0.97013221  0.97013221\n",
      "  0.95188154  0.95188154  0.92758311  0.92758311  0.89723511  0.89723511\n",
      "  0.86132153  0.86132153  0.82070014  0.82070014  0.77646406  0.77646406\n",
      "  0.72981767  0.72981767  0.68198469  0.68198469  0.63414683  0.63414683\n",
      "  0.5874015   0.5874015   0.54272376  0.54272376  0.50091871  0.50091871\n",
      "  0.46255735  0.46255735  0.42790354  0.42790354  0.39686281  0.39686281\n",
      "  0.36900246  0.36900246  0.34367167  0.34367167  0.320166    0.320166\n",
      "  0.29778055  0.29778055  0.27561918  0.27561918  0.25230936  0.25230936\n",
      "  0.22629119  0.22629119  0.19749913  0.19749913  0.16940812  0.16940812\n",
      "  0.14754746  0.14754746  0.13450028  0.13450028  0.1284017   0.1284017\n",
      "  0.12605854  0.12605854  0.12528844  0.12528844  0.12506831  0.12506826\n",
      "  0.1250137   0.12501247]\n"
     ]
    }
   ],
   "source": [
    "p = numpy.arange(len(u[0]))\n",
    "p = z2[0,:-1]\n",
    "print(p.shape,x.shape)\n",
    "print(p)"
   ]
  },
  {
   "cell_type": "code",
   "execution_count": 66,
   "metadata": {
    "collapsed": false
   },
   "outputs": [
    {
     "data": {
      "text/plain": [
       "<matplotlib.text.Text at 0x7cd8a58>"
      ]
     },
     "execution_count": 66,
     "metadata": {},
     "output_type": "execute_result"
    },
    {
     "data": {
      "image/png": "[encoded data removed]",
      "text/plain": [
       "<matplotlib.figure.Figure at 0x7d24c18>"
      ]
     },
     "metadata": {},
     "output_type": "display_data"
    }
   ],
   "source": [
    "pyplot.plot(x, p, color='#003366', ls='-', lw=3)\n",
    "pyplot.ylabel('pressure')\n",
    "pyplot.xlabel('Distance')"
   ]
  },
  {
   "cell_type": "code",
   "execution_count": null,
   "metadata": {
    "collapsed": true
   },
   "outputs": [],
   "source": []
  }
 ],
 "metadata": {
  "kernelspec": {
   "display_name": "Python 3",
   "language": "python",
   "name": "python3"
  },
  "language_info": {
   "codemirror_mode": {
    "name": "ipython",
    "version": 3
   },
   "file_extension": ".py",
   "mimetype": "text/x-python",
   "name": "python",
   "nbconvert_exporter": "python",
   "pygments_lexer": "ipython3",
   "version": "3.4.3"
  }
 },
 "nbformat": 4,
 "nbformat_minor": 0
}
