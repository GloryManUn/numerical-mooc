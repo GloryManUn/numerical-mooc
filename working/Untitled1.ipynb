{
 "cells": [
  {
   "cell_type": "code",
   "execution_count": 1,
   "metadata": {
    "collapsed": false
   },
   "outputs": [],
   "source": [
    "import numpy\n",
    "import sympy\n",
    "from matplotlib import pyplot\n",
    "%matplotlib inline\n",
    "from matplotlib import rcParams\n",
    "rcParams['font.family'] = 'serif'\n",
    "rcParams['font.size'] = 16\n",
    "\n",
    "\n",
    "from sympy import init_printing\n",
    "init_printing()\n",
    "\n",
    "from sympy.utilities.lambdify import lambdify\n",
    "\n",
    "x, y, a, b = sympy.symbols('x y a b')\n"
   ]
  },
  {
   "cell_type": "code",
   "execution_count": 2,
   "metadata": {
    "collapsed": true
   },
   "outputs": [],
   "source": [
    "u = 1/(2*numpy.pi)*sympy.ln(1/((x-a)**2+(y-x+a-b)**2)**(1/2))\n",
    "\n",
    "\n",
    "Ux = u.diff(x)\n",
    "\n",
    "Uxx = Ux.diff(x)\n",
    "\n",
    "Uy = u.diff(y)\n",
    "\n",
    "Uyy = Uy.diff(y)\n",
    "\n",
    "Uxy = Ux.diff(y)"
   ]
  },
  {
   "cell_type": "code",
   "execution_count": 3,
   "metadata": {
    "collapsed": false
   },
   "outputs": [
    {
     "data": {
      "image/png": "[encoded data removed]",
      "text/latex": [
       "$$\\frac{0.318309886183791}{\\left(\\left(- a + x\\right)^{2} + \\left(a - b - x + y\\right)^{2}\\right)^{2.0}} \\left(- 2.0 a + 2.0 b + 2.0 x - 2.0 y\\right) \\left(- 1.0 a + 1.0 b + 1.0 x - 1.0 y\\right) + \\frac{0.318309886183791 \\left(- 2.0 a + 2.0 b + 2.0 x - 2.0 y\\right) \\left(2.0 a - 1.0 b - 2.0 x + 1.0 y\\right)}{\\left(\\left(- a + x\\right)^{2} + \\left(a - b - x + y\\right)^{2}\\right)^{2.0}} + \\frac{0.159154943091895 \\left(2.0 a - 1.0 b - 2.0 x + 1.0 y\\right) \\left(4.0 a - 2.0 b - 4.0 x + 2.0 y\\right)}{\\left(\\left(- a + x\\right)^{2} + \\left(a - b - x + y\\right)^{2}\\right)^{2.0}} - \\frac{0.318309886183791}{\\left(\\left(- a + x\\right)^{2} + \\left(a - b - x + y\\right)^{2}\\right)^{1.0}}$$"
      ],
      "text/plain": [
       "                                                -2.0                          \n",
       "                  ⎛        2                  2⎞                              \n",
       "0.318309886183791⋅⎝(-a + x)  + (a - b - x + y) ⎠    ⋅(--2.0⋅(-1)⋅a + 2.0⋅b + 2\n",
       "\n",
       "                                                                              \n",
       "                                                                              \n",
       ".0⋅x - -2.0⋅(-1)⋅y)⋅(-- -1.0⋅a + 1.0⋅b + 1.0⋅x - - -1.0⋅y) + 0.318309886183791\n",
       "\n",
       "                               -2.0                                           \n",
       " ⎛        2                  2⎞                                               \n",
       "⋅⎝(-a + x)  + (a - b - x + y) ⎠    ⋅(--2.0⋅(-1)⋅a + 2.0⋅b + 2.0⋅x - -2.0⋅(-1)⋅\n",
       "\n",
       "                                                                              \n",
       "                                                                ⎛        2    \n",
       "y)⋅(2.0⋅a - - -1.0⋅b - -2.0⋅(-1)⋅x + 1.0⋅y) + 0.159154943091895⋅⎝(-a + x)  + (\n",
       "\n",
       "                -2.0                                                          \n",
       "              2⎞                                                              \n",
       "a - b - x + y) ⎠    ⋅(2.0⋅a - - -1.0⋅b - -2.0⋅(-1)⋅x + 1.0⋅y)⋅(4.0⋅a - -2.0⋅(-\n",
       "\n",
       "                                                                              \n",
       "                                                   ⎛        2                 \n",
       "1)⋅b - -4.0⋅(-1)⋅x + 2.0⋅y) - - -0.318309886183791⋅⎝(-a + x)  + (a - b - x + y\n",
       "\n",
       "   -1.0\n",
       " 2⎞    \n",
       ") ⎠    "
      ]
     },
     "execution_count": 3,
     "metadata": {},
     "output_type": "execute_result"
    }
   ],
   "source": [
    "z = Uxx+2*Uxy+2*Uyy\n",
    "\n",
    "z"
   ]
  },
  {
   "cell_type": "code",
   "execution_count": 4,
   "metadata": {
    "collapsed": false
   },
   "outputs": [
    {
     "name": "stdout",
     "output_type": "stream",
     "text": [
      "0.318309886183791*((-a + x)**2 + (a - b - x + y)**2)**(-2.0)*(-2.0*a + 2.0*b + 2.0*x - 2.0*y)*(-1.0*a + 1.0*b + 1.0*x - 1.0*y) + 0.318309886183791*((-a + x)**2 + (a - b - x + y)**2)**(-2.0)*(-2.0*a + 2.0*b + 2.0*x - 2.0*y)*(2.0*a - 1.0*b - 2.0*x + 1.0*y) + 0.159154943091895*((-a + x)**2 + (a - b - x + y)**2)**(-2.0)*(2.0*a - 1.0*b - 2.0*x + 1.0*y)*(4.0*a - 2.0*b - 4.0*x + 2.0*y) - 0.318309886183791*((-a + x)**2 + (a - b - x + y)**2)**(-1.0)\n"
     ]
    }
   ],
   "source": [
    "print(z)\n"
   ]
  },
  {
   "cell_type": "code",
   "execution_count": 5,
   "metadata": {
    "collapsed": false
   },
   "outputs": [
    {
     "name": "stdout",
     "output_type": "stream",
     "text": [
      " z = -2.1141942363467336e-18.\n"
     ]
    }
   ],
   "source": [
    "z_lamb = lambdify((x, y, a, b), z)\n",
    "print(\" z = {}.\".format(z_lamb(24,7,1,2)))"
   ]
  },
  {
   "cell_type": "code",
   "execution_count": 6,
   "metadata": {
    "collapsed": false
   },
   "outputs": [
    {
     "data": {
      "image/png": "[encoded data removed]",
      "text/latex": [
       "$$\\frac{0.159154943091895 \\left(2.0 a - 1.0 b - 2.0 x + 1.0 y\\right) \\left(4.0 a - 2.0 b - 4.0 x + 2.0 y\\right)}{\\left(\\left(- a + x\\right)^{2} + \\left(a - b - x + y\\right)^{2}\\right)^{2.0}} - \\frac{0.318309886183791}{\\left(\\left(- a + x\\right)^{2} + \\left(a - b - x + y\\right)^{2}\\right)^{1.0}}$$"
      ],
      "text/plain": [
       "                                                -2.0                          \n",
       "                  ⎛        2                  2⎞                              \n",
       "0.159154943091895⋅⎝(-a + x)  + (a - b - x + y) ⎠    ⋅(2.0⋅a - - -1.0⋅b - -2.0⋅\n",
       "\n",
       "                                                                              \n",
       "                                                                              \n",
       "(-1)⋅x + 1.0⋅y)⋅(4.0⋅a - -2.0⋅(-1)⋅b - -4.0⋅(-1)⋅x + 2.0⋅y) - - -0.31830988618\n",
       "\n",
       "                                   -1.0\n",
       "     ⎛        2                  2⎞    \n",
       "3791⋅⎝(-a + x)  + (a - b - x + y) ⎠    "
      ]
     },
     "execution_count": 6,
     "metadata": {},
     "output_type": "execute_result"
    }
   ],
   "source": [
    "Uxx"
   ]
  },
  {
   "cell_type": "code",
   "execution_count": 14,
   "metadata": {
    "collapsed": false
   },
   "outputs": [
    {
     "data": {
      "image/png": "[encoded data removed]",
      "text/latex": [
       "$$\\frac{0.0795774715459477 \\left(- 3.0 a + 3.0 b + 3.0 x - 3.0 y\\right) \\left(2.0 a - 1.0 b - 2.0 x + 1.0 y\\right)}{\\left(\\left(- a + x\\right)^{2} + \\left(a - b - x + y\\right)^{2}\\right)^{2.5}} + \\frac{0.0795774715459477}{\\left(\\left(- a + x\\right)^{2} + \\left(a - b - x + y\\right)^{2}\\right)^{1.5}}$$"
      ],
      "text/plain": [
       "                                                 -2.5                         \n",
       "                   ⎛        2                  2⎞                             \n",
       "0.0795774715459477⋅⎝(-a + x)  + (a - b - x + y) ⎠    ⋅(--3.0⋅(-1)⋅a + 3.0⋅b + \n",
       "\n",
       "                                                                              \n",
       "                                                                              \n",
       "3.0⋅x - -3.0⋅(-1)⋅y)⋅(2.0⋅a - - -1.0⋅b - -2.0⋅(-1)⋅x + 1.0⋅y) + 0.079577471545\n",
       "\n",
       "                                   -1.5\n",
       "     ⎛        2                  2⎞    \n",
       "9477⋅⎝(-a + x)  + (a - b - x + y) ⎠    "
      ]
     },
     "execution_count": 14,
     "metadata": {},
     "output_type": "execute_result"
    }
   ],
   "source": [
    "Uxy"
   ]
  },
  {
   "cell_type": "code",
   "execution_count": 15,
   "metadata": {
    "collapsed": false
   },
   "outputs": [
    {
     "data": {
      "image/png": "[encoded data removed]",
      "text/latex": [
       "$$\\frac{0.0795774715459477}{\\left(\\left(- a + x\\right)^{2} + \\left(a - b - x + y\\right)^{2}\\right)^{2.5}} \\left(- 3.0 a + 3.0 b + 3.0 x - 3.0 y\\right) \\left(- 1.0 a + 1.0 b + 1.0 x - 1.0 y\\right) - \\frac{0.0795774715459477}{\\left(\\left(- a + x\\right)^{2} + \\left(a - b - x + y\\right)^{2}\\right)^{1.5}}$$"
      ],
      "text/plain": [
       "                                                 -2.5                         \n",
       "                   ⎛        2                  2⎞                             \n",
       "0.0795774715459477⋅⎝(-a + x)  + (a - b - x + y) ⎠    ⋅(--3.0⋅(-1)⋅a + 3.0⋅b + \n",
       "\n",
       "                                                                              \n",
       "                                                                              \n",
       "3.0⋅x - -3.0⋅(-1)⋅y)⋅(-- -1.0⋅a + 1.0⋅b + 1.0⋅x - - -1.0⋅y) - - -0.07957747154\n",
       "\n",
       "                                    -1.5\n",
       "      ⎛        2                  2⎞    \n",
       "59477⋅⎝(-a + x)  + (a - b - x + y) ⎠    "
      ]
     },
     "execution_count": 15,
     "metadata": {},
     "output_type": "execute_result"
    }
   ],
   "source": [
    "Uyy"
   ]
  },
  {
   "cell_type": "code",
   "execution_count": 7,
   "metadata": {
    "collapsed": false
   },
   "outputs": [
    {
     "data": {
      "image/png": "[encoded data removed]",
      "text/latex": [
       "$$0.159154943091895 \\log{\\left (\\left(\\left(- a + x\\right)^{2} + \\left(a - b - x + y\\right)^{2}\\right)^{-0.5} \\right )}$$"
      ],
      "text/plain": [
       "                     ⎛                              -0.5⎞\n",
       "                     ⎜⎛        2                  2⎞    ⎟\n",
       "0.159154943091895⋅log⎝⎝(-a + x)  + (a - b - x + y) ⎠    ⎠"
      ]
     },
     "execution_count": 7,
     "metadata": {},
     "output_type": "execute_result"
    }
   ],
   "source": [
    "u"
   ]
  },
  {
   "cell_type": "code",
   "execution_count": 8,
   "metadata": {
    "collapsed": false
   },
   "outputs": [
    {
     "name": "stdout",
     "output_type": "stream",
     "text": [
      " z = -1.5178830414797062e-17.\n"
     ]
    }
   ],
   "source": [
    "print(\" z = {}.\".format(z_lamb(10,4,1,2)))"
   ]
  },
  {
   "cell_type": "code",
   "execution_count": 9,
   "metadata": {
    "collapsed": false
   },
   "outputs": [
    {
     "name": "stdout",
     "output_type": "stream",
     "text": [
      " z = -2.3822801641527197e-22.\n"
     ]
    }
   ],
   "source": [
    "print(\" z = {}.\".format(z_lamb(2,2117,31,12)))"
   ]
  },
  {
   "cell_type": "code",
   "execution_count": null,
   "metadata": {
    "collapsed": true
   },
   "outputs": [],
   "source": []
  }
 ],
 "metadata": {
  "kernelspec": {
   "display_name": "Python 3",
   "language": "python",
   "name": "python3"
  },
  "language_info": {
   "codemirror_mode": {
    "name": "ipython",
    "version": 3
   },
   "file_extension": ".py",
   "mimetype": "text/x-python",
   "name": "python",
   "nbconvert_exporter": "python",
   "pygments_lexer": "ipython3",
   "version": "3.4.3"
  }
 },
 "nbformat": 4,
 "nbformat_minor": 0
}
