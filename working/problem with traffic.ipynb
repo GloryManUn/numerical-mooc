{
 "cells": [
  {
   "cell_type": "code",
   "execution_count": 120,
   "metadata": {
    "collapsed": true
   },
   "outputs": [],
   "source": [
    "import numpy\n",
    "import sympy\n",
    "from matplotlib import pyplot\n",
    "%matplotlib inline\n",
    "from matplotlib import rcParams\n",
    "rcParams['font.family'] = 'serif'\n",
    "rcParams['font.size'] = 16\n",
    "\n",
    "\n",
    "from sympy import init_printing\n",
    "init_printing()\n",
    "\n",
    "from sympy.utilities.lambdify import lambdify\n",
    "\n",
    "##parametres\n",
    "\n",
    "T = 180\n",
    "Vm = 1360/36\n",
    "L = 11000\n",
    "rhoM = 0.25\n",
    "nx = 51\n",
    "dt = 3.6\n",
    "dx = L/nx\n",
    "nt = round(T/dt)"
   ]
  },
  {
   "cell_type": "code",
   "execution_count": 121,
   "metadata": {
    "collapsed": true
   },
   "outputs": [],
   "source": [
    "##initial conditions\n",
    "##x = numpy.linspace(0,L,nx)\n",
    "##rho = numpy.ones(nx)*0.01\n",
    "##rho[10:20] = 0.05\n",
    "\n",
    "\n",
    "x = numpy.linspace(0,L,nx)\n",
    "rho = numpy.ones(nx)*0.02 ##note this change\n",
    "rho[10:20] = 0.05"
   ]
  },
  {
   "cell_type": "code",
   "execution_count": 122,
   "metadata": {
    "collapsed": false
   },
   "outputs": [],
   "source": [
    "for n in range(1, nt):  \n",
    "    un = rho.copy() \n",
    "    rho[1:] = un[1:]-(1-2*un[1:]/rhoM)*dt/dx*Vm*(un[1:]-un[0:-1]) \n",
    "    ##rho[0] = 0.01\n",
    "    rho[0] = 0.02\n",
    "   ## V[0:] = Vm(1-rho[0:]/rhoM)"
   ]
  },
  {
   "cell_type": "code",
   "execution_count": 123,
   "metadata": {
    "collapsed": false
   },
   "outputs": [
    {
     "data": {
      "image/png": "[encoded data removed]",
      "text/plain": [
       "<matplotlib.figure.Figure at 0x9a30908>"
      ]
     },
     "metadata": {},
     "output_type": "display_data"
    }
   ],
   "source": [
    "pyplot.plot(x, rho, color='#003366', ls='--', lw=3)\n",
    "pyplot.ylim(0,0.1);\n",
    "pyplot.xlim(0,11000);"
   ]
  },
  {
   "cell_type": "code",
   "execution_count": 124,
   "metadata": {
    "collapsed": false
   },
   "outputs": [
    {
     "data": {
      "image/png": "[encoded data removed]",
      "text/plain": [
       "<matplotlib.figure.Figure at 0x9a172e8>"
      ]
     },
     "metadata": {},
     "output_type": "display_data"
    }
   ],
   "source": [
    "V = numpy.ones(nx)*Vm*(1-rho/rhoM)\n",
    "pyplot.plot(x, V, color='#003366', ls='--', lw=3)\n",
    "pyplot.ylim(0,50);\n",
    "pyplot.xlim(0,11000);"
   ]
  },
  {
   "cell_type": "code",
   "execution_count": 125,
   "metadata": {
    "collapsed": false
   },
   "outputs": [
    {
     "name": "stdout",
     "output_type": "stream",
     "text": [
      "[ 34.75555556  34.75555556  34.75555556  34.75555556  34.75555556\n",
      "  34.75555556  34.75555556  34.75555556  34.75555556  34.75555556\n",
      "  34.75555556  34.75555556  34.75555556  34.75555556  34.75555556\n",
      "  34.75555555  34.75555553  34.75555534  34.75555418  34.75554797\n",
      "  34.75551856  34.75539424  34.75492077  34.7532834   34.74810644\n",
      "  34.73306103  34.69277692  34.59383564  34.37476512  33.95361508\n",
      "  33.28909289  32.47345858  31.71191667  31.16635807  30.8711827\n",
      "  30.78050636  30.83377651  30.98389125  31.19973809  31.46125531\n",
      "  31.75467768  32.06948268  32.39668308  32.72791052  33.05492992\n",
      "  33.36942886  33.66306566  33.92783159  34.15677577  34.34502932\n",
      "  34.49085633]\n"
     ]
    }
   ],
   "source": [
    "print(V)"
   ]
  },
  {
   "cell_type": "code",
   "execution_count": 126,
   "metadata": {
    "collapsed": true
   },
   "outputs": [],
   "source": [
    "def summas(a):\n",
    "    s = 0\n",
    "    for x in a:\n",
    "        s += x\n",
    "    return s\n",
    "\n",
    "# функция вычисления среднего арафиметического\n",
    "def average(a):\n",
    "    # используем определенную выше\n",
    "    # функцию суммирования элементов массива\n",
    "    return summas(a)/len(a)\n"
   ]
  },
  {
   "cell_type": "code",
   "execution_count": 127,
   "metadata": {
    "collapsed": false
   },
   "outputs": [
    {
     "name": "stdout",
     "output_type": "stream",
     "text": [
      "33.7638083717\n"
     ]
    }
   ],
   "source": [
    "print(average(V))"
   ]
  },
  {
   "cell_type": "code",
   "execution_count": 128,
   "metadata": {
    "collapsed": false
   },
   "outputs": [
    {
     "name": "stdout",
     "output_type": "stream",
     "text": [
      "30.7805063633\n"
     ]
    }
   ],
   "source": [
    "print(min(V))"
   ]
  },
  {
   "cell_type": "code",
   "execution_count": null,
   "metadata": {
    "collapsed": true
   },
   "outputs": [],
   "source": []
  }
 ],
 "metadata": {
  "kernelspec": {
   "display_name": "Python 3",
   "language": "python",
   "name": "python3"
  },
  "language_info": {
   "codemirror_mode": {
    "name": "ipython",
    "version": 3
   },
   "file_extension": ".py",
   "mimetype": "text/x-python",
   "name": "python",
   "nbconvert_exporter": "python",
   "pygments_lexer": "ipython3",
   "version": "3.4.3"
  }
 },
 "nbformat": 4,
 "nbformat_minor": 0
}
