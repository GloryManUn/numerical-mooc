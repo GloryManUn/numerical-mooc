{
 "cells": [
  {
   "cell_type": "code",
   "execution_count": 2,
   "metadata": {
    "collapsed": false
   },
   "outputs": [],
   "source": [
    "%matplotlib inline\n",
    "import numpy\n",
    "from matplotlib import pyplot\n",
    "#from matplotlib import animation\n",
    "#from JSAnimation.IPython_display import display_animation"
   ]
  },
  {
   "cell_type": "code",
   "execution_count": 46,
   "metadata": {
    "collapsed": true
   },
   "outputs": [],
   "source": [
    "def u_initial(nx):\n",
    "            #fill in code here\n",
    "    u = numpy.linspace(0,4,nx)\n",
    "    u[0:int((nx-1)/2)] = 1\n",
    "    u[int((nx-1)/2):] = 0\n",
    "    return u"
   ]
  },
  {
   "cell_type": "code",
   "execution_count": 47,
   "metadata": {
    "collapsed": false
   },
   "outputs": [
    {
     "name": "stdout",
     "output_type": "stream",
     "text": [
      "[ 1.  1.  1.  1.  1.  0.  0.  0.  0.  0.  0.]\n"
     ]
    }
   ],
   "source": [
    "print(u_initial(11))"
   ]
  },
  {
   "cell_type": "code",
   "execution_count": 41,
   "metadata": {
    "collapsed": false
   },
   "outputs": [
    {
     "name": "stdout",
     "output_type": "stream",
     "text": [
      "[ 0.   0.4  0.8  1.2  1.6  2.   2.4  2.8  3.2  3.6  4. ]\n",
      "[   0.     0.4    0.8    1.2    1.6    2.     2.4    2.8    3.2    3.6\n",
      "    4.   100. ]\n"
     ]
    }
   ],
   "source": [
    "u = numpy.linspace(0, 4, 11)\n",
    "print(u)\n",
    "u = numpy.append(u, 100)\n",
    "print(u)"
   ]
  },
  {
   "cell_type": "code",
   "execution_count": 48,
   "metadata": {
    "collapsed": true
   },
   "outputs": [],
   "source": [
    "def computeF(u):\n",
    "    return 0.5*u*u"
   ]
  },
  {
   "cell_type": "code",
   "execution_count": 66,
   "metadata": {
    "collapsed": false
   },
   "outputs": [],
   "source": [
    "def maccormack(u, nt, dt, dx):\n",
    "    un = numpy.zeros((nt,len(u)))\n",
    "    un[:] = u.copy()\n",
    "    #ustar = u.copy()\n",
    "\n",
    "    for n in range(1,nt):\n",
    "        F = computeF(u)\n",
    "        \n",
    "        ustar = u[:-1]-dt/dx*(F[1:]-F[:-1])\n",
    "        ustar = numpy.append(ustar, u[-1])\n",
    "\n",
    "        Fstar = computeF(ustar)\n",
    "\n",
    "        un[n,1:] = 0.5*(u[1:]+ustar[1:]-dt/dx*(Fstar[1:]-Fstar[:-1]))\n",
    "\n",
    "        u = un[n].copy()\n",
    "\n",
    "    return un"
   ]
  },
  {
   "cell_type": "code",
   "execution_count": 67,
   "metadata": {
    "collapsed": false
   },
   "outputs": [],
   "source": [
    "nx = 81\n",
    "nt = 70\n",
    "dx = 4.0/(nx-1)\n",
    "u = u_initial(nx)\n",
    "sigma = .5\n",
    "dt = sigma*dx\n",
    "\n",
    "un = maccormack(u,nt,dt,dx)"
   ]
  },
  {
   "cell_type": "code",
   "execution_count": 68,
   "metadata": {
    "collapsed": false
   },
   "outputs": [
    {
     "name": "stdout",
     "output_type": "stream",
     "text": [
      "[  1.00000000e+000   1.00000000e+000   1.00000000e+000   1.00000000e+000\n",
      "   1.00000000e+000   1.00000000e+000   1.00000000e+000   1.00000000e+000\n",
      "   1.00000000e+000   1.00000000e+000   1.00000000e+000   1.00000000e+000\n",
      "   1.00000000e+000   1.00000000e+000   1.00000000e+000   1.00000000e+000\n",
      "   1.00000000e+000   1.00000000e+000   1.00000000e+000   1.00000000e+000\n",
      "   1.00000000e+000   1.00000000e+000   1.00000000e+000   1.00000000e+000\n",
      "   1.00000000e+000   1.00000000e+000   1.00000000e+000   9.99999999e-001\n",
      "   9.99999997e-001   1.00000001e+000   9.99999999e-001   9.99999959e-001\n",
      "   1.00000006e+000   1.00000009e+000   9.99999640e-001   1.00000009e+000\n",
      "   1.00000125e+000   9.99998293e-001   9.99997567e-001   1.00000831e+000\n",
      "   9.99998594e-001   9.99976010e-001   1.00003275e+000   1.00003000e+000\n",
      "   9.99859568e-001   1.00010816e+000   1.00030601e+000   9.99169616e-001\n",
      "   1.00011394e+000   1.00273339e+000   9.95879551e-001   9.96094364e-001\n",
      "   1.01835878e+000   9.86443466e-001   9.51155433e-001   1.08910284e+000\n",
      "   9.86020354e-001   2.23184423e-001   1.42748495e-003   2.91314583e-009\n",
      "   1.31524907e-023   9.36223472e-060   7.68040517e-151   0.00000000e+000\n",
      "   0.00000000e+000   0.00000000e+000   0.00000000e+000   0.00000000e+000\n",
      "   0.00000000e+000   0.00000000e+000   0.00000000e+000   0.00000000e+000\n",
      "   0.00000000e+000   0.00000000e+000   0.00000000e+000   0.00000000e+000\n",
      "   0.00000000e+000   0.00000000e+000   0.00000000e+000   0.00000000e+000\n",
      "   0.00000000e+000]\n"
     ]
    }
   ],
   "source": [
    "print(un[-1])"
   ]
  },
  {
   "cell_type": "code",
   "execution_count": null,
   "metadata": {
    "collapsed": true
   },
   "outputs": [],
   "source": []
  }
 ],
 "metadata": {
  "kernelspec": {
   "display_name": "Python 3",
   "language": "python",
   "name": "python3"
  },
  "language_info": {
   "codemirror_mode": {
    "name": "ipython",
    "version": 3
   },
   "file_extension": ".py",
   "mimetype": "text/x-python",
   "name": "python",
   "nbconvert_exporter": "python",
   "pygments_lexer": "ipython3",
   "version": "3.4.3"
  }
 },
 "nbformat": 4,
 "nbformat_minor": 0
}
